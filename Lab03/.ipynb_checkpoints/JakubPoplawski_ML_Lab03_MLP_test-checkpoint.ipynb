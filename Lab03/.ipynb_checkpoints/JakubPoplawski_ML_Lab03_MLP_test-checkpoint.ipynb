{
 "cells": [
  {
   "cell_type": "markdown",
   "id": "a6772e3a",
   "metadata": {},
   "source": [
    "# Co trzeba zrealizować:\n",
    "## Regresja logistyczna\n",
    "1. Zaimportować potrzebne biblioteki\n",
    "2. Wczytać odpowiedni zbiór danych 20pkt\n",
    "3. Podać jakie mamy klasy, liczbę próbek w zbiorze i liczbę próbek w każdej klasie 10 pkt\n",
    "4. Wyuczyć model regresji logistycznej dla wybranego zbioru danych przy domyślnych hiperparametrach 20 pkt\n",
    "5. Podać dokładność rozpoznawania 10 pkt\n",
    "6. Obliczyć macierz pomyłek i odpowiednio ją wydrukować 10 pkt\n",
    "\n",
    "RAZEM 70 pkt"
   ]
  },
  {
   "cell_type": "markdown",
   "id": "628a54dc",
   "metadata": {},
   "source": [
    "## 1. Przygotowanie bibliotek i"
   ]
  },
  {
   "cell_type": "code",
   "execution_count": null,
   "id": "d22f598e",
   "metadata": {},
   "outputs": [],
   "source": [
    "# 1. Zaimportowane biblioteki\n",
    "\n",
    "import matplotlib.pyplot as plt\n",
    "import seaborn as sns\n",
    "import numpy as np\n",
    "import pandas as pd\n",
    "from sklearn.neural_network import MLPClassifier\n",
    "from sklearn import metrics\n",
    "from sklearn.model_selection import train_test_split"
   ]
  },
  {
   "cell_type": "markdown",
   "id": "e1836538",
   "metadata": {},
   "source": [
    "## 2. Wczytanie danych"
   ]
  },
  {
   "cell_type": "code",
   "execution_count": null,
   "id": "44880c38",
   "metadata": {},
   "outputs": [],
   "source": [
    "# 2. a) Wczytanie danych\n",
    "\n",
    "df_train = pd.read_csv(\"fashion-mnist_train.csv\")\n",
    "df_train.head()\n",
    "\n",
    "df_test = pd.read_csv(\"fashion-mnist_test.csv\")\n",
    "df_test.head()"
   ]
  },
  {
   "cell_type": "code",
   "execution_count": null,
   "id": "fb4bdbdf",
   "metadata": {},
   "outputs": [],
   "source": [
    "# 2. b) Wydzienie parametru klasy\n",
    "\n",
    "y_train = df_train[\"label\"]\n",
    "y_test = df_test[\"label\"]\n",
    "print(y_train.head())\n",
    "\n",
    "X_train = df_train.copy().drop([\"label\"], axis=1)\n",
    "X_test = df_test.copy().drop([\"label\"], axis=1)\n",
    "X_train.head()"
   ]
  },
  {
   "cell_type": "markdown",
   "id": "30ab45d2",
   "metadata": {},
   "source": [
    "## 3. Analiza struktury zbioru"
   ]
  },
  {
   "cell_type": "code",
   "execution_count": null,
   "id": "9c00eb16",
   "metadata": {},
   "outputs": [],
   "source": [
    "# 3. a) Rozmiar zbioru (l. próbek, l. pixeli)\n",
    "\n",
    "print(f\"Training set: {df_train.shape}\")\n",
    "print(f\"Testing set: {df_test.shape}\")"
   ]
  },
  {
   "cell_type": "code",
   "execution_count": null,
   "id": "3acd8015",
   "metadata": {},
   "outputs": [],
   "source": [
    "# 3. b) Liczba próbek w każdej klasie\n",
    "\n",
    "print(f\"Training set: \\n{y_train.value_counts().sort_index()}\\n\")\n",
    "print(f\"Testing set: \\n{y_test.value_counts().sort_index()}\\n\")"
   ]
  },
  {
   "cell_type": "code",
   "execution_count": null,
   "id": "b32c7b4e",
   "metadata": {},
   "outputs": [],
   "source": [
    "# 3. c) Podpisy klas\n",
    "\n",
    "lables_dic = {0: \"T-shirt/top\",\n",
    "              1: \"Trouser\",\n",
    "              2: \"Pullover\",\n",
    "              3: \"Dress\",\n",
    "              4: \"Coat\",\n",
    "              5: \"Sandal\",\n",
    "              6: \"Shirt\",\n",
    "              7: \"Sneaker\",\n",
    "              8: \"Bag\",\n",
    "              9: \"Ankle boot\"}"
   ]
  },
  {
   "cell_type": "markdown",
   "id": "8a8829f2",
   "metadata": {},
   "source": [
    "## Prezentacja przykładowych danych"
   ]
  },
  {
   "cell_type": "code",
   "execution_count": null,
   "id": "b7a81788",
   "metadata": {},
   "outputs": [],
   "source": [
    "img_size = (28, 28)\n",
    "plt.figure(figsize=(20, 4))\n",
    "for i, (img, label) in enumerate(zip(X_train.values[0:5], y_train.values[0:5])):\n",
    "    plt.subplot(1, 5, i+1)\n",
    "    plt.imshow(np.reshape(img, img_size), cmap=plt.cm.gray)\n",
    "    plt.title(f\"Label: {lables_dic[label]}\", fontsize=20)"
   ]
  },
  {
   "cell_type": "markdown",
   "id": "53b1a829",
   "metadata": {},
   "source": [
    "## 4. Uczenie modelu"
   ]
  },
  {
   "cell_type": "code",
   "execution_count": null,
   "id": "c143dfbf",
   "metadata": {
    "scrolled": true
   },
   "outputs": [],
   "source": [
    "# 4. a) Uczenie modelu MLPClassifier\n",
    "\n",
    "mlpc = MLPClassifier()\n",
    "\n",
    "mlpc.fit(X_train, y_train)"
   ]
  },
  {
   "cell_type": "markdown",
   "id": "95ca610d",
   "metadata": {},
   "source": [
    "## 5. Predykcja oraz dokładność rozpoznania"
   ]
  },
  {
   "cell_type": "code",
   "execution_count": null,
   "id": "fb96e783",
   "metadata": {},
   "outputs": [],
   "source": [
    "# 5. Predykcja oraz jej błąd / wynik\n",
    "\n",
    "y_pred = mlpc.predict(X_test)\n",
    "\n",
    "score = mlpc.score(X_test, y_test)\n",
    "print(f\"Accuracy of model (score): {score}\")\n",
    "# print(f\"Mean squared log error: {metrics.mean_squared_log_error(y_test, y_pred)}\")\n",
    "# print(f\"Mean squared error: {metrics.mean_squared_error(y_test, y_pred)}\")\n",
    "# print(f\"Coefficient of determination: {metrics.r2_score(y_test, y_pred)}\")"
   ]
  },
  {
   "cell_type": "markdown",
   "id": "6389a39b",
   "metadata": {},
   "source": [
    "## 6. Macierz pomyłek"
   ]
  },
  {
   "cell_type": "code",
   "execution_count": null,
   "id": "ba599809",
   "metadata": {},
   "outputs": [],
   "source": [
    "# 6. Macierz pomyłek w formie tekstowej oraz graficznej\n",
    "\n",
    "cm = metrics.confusion_matrix(y_test, y_pred)\n",
    "print(cm)\n",
    "\n",
    "plt.figure(figsize=(10, 10))\n",
    "sns.heatmap(cm, annot=True, fmt=\".3f\", linewidths=0.5,\n",
    "           square=True, cmap=\"Blues_r\")\n",
    "plt.ylabel(\"Label from set\")\n",
    "plt.xlabel(\"Predicted label\")\n",
    "plt.title(f\"Accuracy score: {score}\", size=20)\n",
    "plt.show()\n",
    "\n",
    "print(lables_dic)"
   ]
  },
  {
   "cell_type": "code",
   "execution_count": null,
   "id": "75614a14",
   "metadata": {},
   "outputs": [],
   "source": [
    "# funkcja straty w kolejnych krokach uczenia\n",
    "\n",
    "loss_in_iterations = mlpc.loss_curve_\n",
    "\n",
    "plt.plot(loss_in_iterations)\n",
    "plt.title(\"Loss in iterations\")\n",
    "plt.xlabel(\"iteration\")\n",
    "plt.ylabel(\"loss\")\n",
    "plt.show()"
   ]
  },
  {
   "cell_type": "markdown",
   "id": "e261f6c5",
   "metadata": {},
   "source": [
    "## Błędnie rozpoznane wzorce"
   ]
  },
  {
   "cell_type": "code",
   "execution_count": null,
   "id": "bddb8b81",
   "metadata": {},
   "outputs": [],
   "source": [
    "# 7. Pierwsze 5 błędnie rozpoznanych wzorców\n",
    "\n",
    "disp_items = 5\n",
    "plt.figure(figsize=(28, 4))\n",
    "\n",
    "i = 0\n",
    "for (img, test, pred) in zip(X_test.values, y_test.values, y_pred):\n",
    "    if i >= disp_items:\n",
    "        break\n",
    "    if test == pred:\n",
    "        continue\n",
    "    plt.subplot(1, disp_items, i+1)\n",
    "    plt.imshow(np.reshape(img, img_size), cmap=plt.cm.gray)\n",
    "    plt.title(f\"Test: {lables_dic[test]}\\nPred: {lables_dic[pred]}\", fontsize=20)\n",
    "    i += 1\n",
    "plt.show()"
   ]
  },
  {
   "cell_type": "markdown",
   "id": "e2c6f0e5",
   "metadata": {},
   "source": [
    "## Zbiór walidujący"
   ]
  },
  {
   "cell_type": "code",
   "execution_count": null,
   "id": "08026a9f",
   "metadata": {},
   "outputs": [],
   "source": [
    "# Wydzielenie zbioru walidujacego z testowego\n",
    "\n",
    "dev_size = 1000\n",
    "X_test2, X_dev, y_test2, y_dev = train_test_split(X_test, y_test, \n",
    "    test_size=dev_size, stratify=y_test)\n",
    "\n",
    "# Liczba próbek w każdej klasie\n",
    "\n",
    "print(f\"Testing set: \\n{y_test2.value_counts().sort_index()}\\n\")\n",
    "print(f\"Dev set: \\n{y_dev.value_counts().sort_index()}\\n\")"
   ]
  },
  {
   "cell_type": "code",
   "execution_count": null,
   "id": "557d49d7",
   "metadata": {
    "scrolled": true
   },
   "outputs": [],
   "source": [
    "# Krzywe uczenia \n",
    "\n",
    "# Nauka na \n",
    "\n",
    "mlpc.fit(X_dev, y_dev)\n",
    "dev_loss_in_iterations = mlpc.loss_curve_.copy()\n",
    "loss_in_iterations = mlpc.loss_curve_\n",
    "\n",
    "\n",
    "\n",
    "fig, ax = plt.subplots()\n",
    "ax.plot(loss_in_iterations, label=\"loss\")\n",
    "ax.plot(dev_loss_in_iterations, label=\"dev loss\")\n",
    "plt.legend()\n",
    "plt.title(\"Loss in iterations\")\n",
    "plt.xlabel(\"iteration\")\n",
    "plt.ylabel(\"loss\")\n",
    "plt.show()"
   ]
  }
 ],
 "metadata": {
  "kernelspec": {
   "display_name": "Python 3 (ipykernel)",
   "language": "python",
   "name": "python3"
  },
  "language_info": {
   "codemirror_mode": {
    "name": "ipython",
    "version": 3
   },
   "file_extension": ".py",
   "mimetype": "text/x-python",
   "name": "python",
   "nbconvert_exporter": "python",
   "pygments_lexer": "ipython3",
   "version": "3.10.9"
  }
 },
 "nbformat": 4,
 "nbformat_minor": 5
}
